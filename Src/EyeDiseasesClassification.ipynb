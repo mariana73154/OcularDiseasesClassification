{
 "cells": [
  {
   "attachments": {},
   "cell_type": "markdown",
   "metadata": {},
   "source": [
    "# Imports\n",
    "\n",
    "* May be needed to install some modules in our python enviroment - here are some of the modules This project does need to run"
   ]
  },
  {
   "cell_type": "code",
   "execution_count": 1,
   "metadata": {},
   "outputs": [
    {
     "name": "stdout",
     "output_type": "stream",
     "text": [
      "Note: you may need to restart the kernel to use updated packages.\n"
     ]
    },
    {
     "name": "stderr",
     "output_type": "stream",
     "text": [
      "ERROR: Invalid requirement: '#'\n"
     ]
    }
   ],
   "source": [
    "# uncomment the following lines if you need to install any of the modules described below\n",
    "# %pip install --upgrade pip    # pip, model for package management\n",
    "# %pip install tensorflow       # tensorflow, model knowed for deep learning\n",
    "# %pip install seaborn          # seaborn, model for data visualization\n",
    "# %pip install matplotlib       # matplotlib, model for data visualization\n",
    "# %pip install opencv-python    # opencv-python, model for image processing"
   ]
  },
  {
   "cell_type": "code",
   "execution_count": 2,
   "metadata": {},
   "outputs": [],
   "source": [
    "import numpy as np                  # numpy, model for data manipulation  \n",
    "import pandas as pd                 # pandas, model for data manipulation\n",
    "import os, random                   # os, model for operating system\n",
    "import matplotlib.pyplot as plt     # matplotlib, model for data visualization\n",
    "import seaborn as sns               # seaborn, model for data visualization\n",
    "import cv2                          # cv2, model for image processing\n",
    "import tensorflow as tf             # tensorflow, model knowed for deep learning\n",
    "import keras                        # keras, model knowed for deep learning\n",
    "\n",
    "# other keras imports\n",
    "from keras.preprocessing import image   # image, model for image processing\n",
    "from keras.models import Sequential     # Sequential, model for deep learning\n",
    "# keras layers\n",
    "from keras.layers import  Conv2D, MaxPool2D, Flatten, Dense, Dropout, BatchNormalization, Activation, GlobalAveragePooling2D, Input                               \n",
    "from keras.preprocessing.image import ImageDataGenerator # ImageDataGenerator, model for image processing\n",
    "from keras.applications import VGG16, InceptionResNetV2  # VGG16, InceptionResNetV2, model for deep learning    \n",
    "from keras import regularizers                           # regularizers, model for deep learning\n",
    "from keras.optimizers import Adam,RMSprop,SGD,Adamax     # Adam,RMSprop,SGD,Adamax, model for deep learning\n",
    "from keras.models import Model                           # Model, model for deep learning\n",
    "from keras import layers                                 # layers, model for deep learning\n",
    "from keras.callbacks import ReduceLROnPlateau, EarlyStopping # ReduceLROnPlateau, EarlyStopping, model for deep learning"
   ]
  },
  {
   "attachments": {},
   "cell_type": "markdown",
   "metadata": {},
   "source": [
    "# Problem and Data\n",
    "\n",
    "Whit this notebook I pretend to use deep learning in order to classified diferent type of eye diseases. As of any deep learning model it needs data to train and lean from it. I´ve searched for data in sites such as the well knowed Kaggle and Google datasets. \n",
    "In this case the dataset I will use will be mainly the one from kaggle : https://www.kaggle.com/datasets/gunavenkatdoddi/eye-diseases-classification.\n",
    "\n",
    "Dataset is stored in \"Data\" folder and is composed of:\n",
    "\n",
    "* 1038 images of eyes with cataracts\n",
    "* 1098 images of eyes with diabetic retinopathy\n",
    "* 1007 images of eyed with glaucoma\n",
    "* 1074 images of healthy eyes"
   ]
  },
  {
   "cell_type": "code",
   "execution_count": 11,
   "metadata": {},
   "outputs": [
    {
     "name": "stdout",
     "output_type": "stream",
     "text": [
      "Total number of images in the [ cataract ] :  1038\n",
      "Total number of images in the [ diabetic_retinopathy ] :  1098\n",
      "Total number of images in the [ glaucoma ] :  1007\n",
      "Total number of images in the [ normal ] :  1074\n",
      "Total number of images in the [dataset] : 4217\n"
     ]
    }
   ],
   "source": [
    "# count number of files in a directory\n",
    "def count_files(directory):\n",
    "    return len([item for item in os.listdir(directory) if os.path.isfile(os.path.join(directory, item))])\n",
    "\n",
    "EyeDiseases = dict()\n",
    "for dir in os.listdir('../Data/dataset/'):\n",
    "    print('Total number of images in the [', dir ,'] : ', count_files('../Data/dataset/'+dir))\n",
    "    EyeDiseases.update({dir:count_files('../Data/dataset/'+dir)})\n",
    "\n",
    "print('Total number of images in the [dataset] :', sum(EyeDiseases.values()))\n"
   ]
  },
  {
   "attachments": {},
   "cell_type": "markdown",
   "metadata": {},
   "source": [
    "The dataset has four equally distributed classes.\n",
    "However, 4000 images may not be sufficient, so I will create synthetic images using data augmentation"
   ]
  },
  {
   "cell_type": "code",
   "execution_count": 15,
   "metadata": {},
   "outputs": [
    {
     "data": {
      "image/png": "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",
      "text/plain": [
       "<Figure size 300x300 with 1 Axes>"
      ]
     },
     "metadata": {},
     "output_type": "display_data"
    }
   ],
   "source": [
    "#Plot the number of images in each class using a pie chart\n",
    "plt.figure(figsize=(3,3))\n",
    "plt.pie(EyeDiseases.values(), labels=EyeDiseases.keys(), autopct='%1.1f%%', startangle=90)\n",
    "plt.title('Number of images in each class')\n",
    "plt.show()"
   ]
  },
  {
   "attachments": {},
   "cell_type": "markdown",
   "metadata": {},
   "source": [
    "# Creating new images using data augmentation"
   ]
  },
  {
   "cell_type": "code",
   "execution_count": 21,
   "metadata": {},
   "outputs": [
    {
     "name": "stdout",
     "output_type": "stream",
     "text": [
      "Number of images in the folder \"AugImages\":  4\n"
     ]
    }
   ],
   "source": [
    "datagen = ImageDataGenerator(\n",
    "    rotation_range=30,\n",
    "    rescale=1./255, \n",
    "    zoom_range=0.1\n",
    ")\n",
    "\n",
    "# create a folder name \"AugImages\" for all classes\n",
    "# check if the folder exists\n",
    "if not os.path.exists('../Data/AugImages'):\n",
    "    os.mkdir('../Data/AugImages')\n",
    "\n",
    "# create a folder for each class\n",
    "for dir in os.listdir('../Data/dataset/'):\n",
    "    os.mkdir('../Data/AugImages/'+dir)\n",
    "\n",
    "# iter the images from the folder \"dataset\"\n",
    "for dir in os.listdir('../Data/dataset/'):\n",
    "    for file in os.listdir('../Data/dataset/'+dir):\n",
    "        # load the image\n",
    "        img = keras.utils.image_utils.load_img('../Data/dataset/'+dir+ '/' + file, color_mode='rgb', target_size=(256, 256))\n",
    "        # convert the image to array\n",
    "        x = keras.utils.image_utils.img_to_array(img)\n",
    "        # reshape the image\n",
    "        x = x.reshape((1,) + x.shape)\n",
    "\n",
    "        # generate the augmented images\n",
    "        num = 0\n",
    "        i = 0\n",
    "        for batch in datagen.flow(x, batch_size=1,save_to_dir='../Data/AugImages/'+dir, save_prefix='aug',save_format='jpeg'):\n",
    "            i += 1\n",
    "            if i > 2:\n",
    "                break  # Stop after generating 10 augmented images\n",
    "\n",
    "    \n",
    "# counts the number of images in the folder \"AugImages\"\n",
    "print(\"Number of images in the folder \\\"AugImages\\\": \", len(os.listdir('../Data/AugImages')))"
   ]
  },
  {
   "cell_type": "code",
   "execution_count": 20,
   "metadata": {},
   "outputs": [
    {
     "name": "stdout",
     "output_type": "stream",
     "text": [
      "Number of images in the folder \"AugImages\":  4396\n"
     ]
    }
   ],
   "source": [
    "# counts the number of images in each class in the folder \"AugImages\" with function count_files\n",
    "num_files = 0\n",
    "for dir in os.listdir('../Data/AugImages/'):\n",
    "    num_files += count_files('../Data/AugImages/'+dir)\n",
    "    \n",
    "print (\"Number of images in the folder \\\"AugImages\\\": \", num_files)"
   ]
  },
  {
   "attachments": {},
   "cell_type": "markdown",
   "metadata": {},
   "source": [
    "# Model"
   ]
  },
  {
   "attachments": {},
   "cell_type": "markdown",
   "metadata": {},
   "source": [
    "Load Images"
   ]
  },
  {
   "cell_type": "code",
   "execution_count": 6,
   "metadata": {},
   "outputs": [
    {
     "name": "stdout",
     "output_type": "stream",
     "text": [
      "Found 3376 images belonging to 4 classes.\n",
      "Found 841 images belonging to 4 classes.\n"
     ]
    }
   ],
   "source": [
    "#Load the images from the folder \"dataset\" into train and test sets using ImageDataGenerator\n",
    "train_datagen = ImageDataGenerator(\n",
    "    rescale=1./255,\n",
    "    validation_split=0.2\n",
    ")\n",
    "\n",
    "train_generator = train_datagen.flow_from_directory(\n",
    "    '../Data/dataset/',\n",
    "    target_size=(256, 256),\n",
    "    batch_size=32,\n",
    "    class_mode='categorical',\n",
    "    subset='training',\n",
    "    seed=10\n",
    ")\n",
    "\n",
    "validation_generator = train_datagen.flow_from_directory(\n",
    "    '../Data/dataset/',\n",
    "    target_size=(256, 256),\n",
    "    batch_size=32,\n",
    "    class_mode='categorical',\n",
    "    subset='validation',\n",
    "    seed=10\n",
    ")"
   ]
  },
  {
   "attachments": {},
   "cell_type": "markdown",
   "metadata": {},
   "source": [
    "My first CNN model"
   ]
  },
  {
   "cell_type": "code",
   "execution_count": 10,
   "metadata": {},
   "outputs": [
    {
     "name": "stdout",
     "output_type": "stream",
     "text": [
      "Model: \"model_4\"\n",
      "_________________________________________________________________\n",
      " Layer (type)                Output Shape              Param #   \n",
      "=================================================================\n",
      " input_5 (InputLayer)        [(None, 256, 256, 3)]     0         \n",
      "                                                                 \n",
      " conv2d_18 (Conv2D)          (None, 256, 256, 32)      896       \n",
      "                                                                 \n",
      " conv2d_19 (Conv2D)          (None, 256, 256, 32)      9248      \n",
      "                                                                 \n",
      " max_pooling2d_9 (MaxPooling  (None, 128, 128, 32)     0         \n",
      " 2D)                                                             \n",
      "                                                                 \n",
      " conv2d_20 (Conv2D)          (None, 128, 128, 64)      18496     \n",
      "                                                                 \n",
      " conv2d_21 (Conv2D)          (None, 128, 128, 64)      36928     \n",
      "                                                                 \n",
      " max_pooling2d_10 (MaxPoolin  (None, 64, 64, 64)       0         \n",
      " g2D)                                                            \n",
      "                                                                 \n",
      " conv2d_22 (Conv2D)          (None, 64, 64, 128)       73856     \n",
      "                                                                 \n",
      " conv2d_23 (Conv2D)          (None, 64, 64, 128)       147584    \n",
      "                                                                 \n",
      " max_pooling2d_11 (MaxPoolin  (None, 32, 32, 128)      0         \n",
      " g2D)                                                            \n",
      "                                                                 \n",
      " flatten_4 (Flatten)         (None, 131072)            0         \n",
      "                                                                 \n",
      " dense_8 (Dense)             (None, 128)               16777344  \n",
      "                                                                 \n",
      " dropout_4 (Dropout)         (None, 128)               0         \n",
      "                                                                 \n",
      " dense_9 (Dense)             (None, 4)                 516       \n",
      "                                                                 \n",
      "=================================================================\n",
      "Total params: 17,064,868\n",
      "Trainable params: 17,064,868\n",
      "Non-trainable params: 0\n",
      "_________________________________________________________________\n",
      "You must install pydot (`pip install pydot`) and install graphviz (see instructions at https://graphviz.gitlab.io/download/) for plot_model to work.\n"
     ]
    }
   ],
   "source": [
    "#Create a CNN model\n",
    "model = Sequential()\n",
    "\n",
    "#Input Layer\n",
    "Inputlayer = Input(shape=(256, 256, 3))\n",
    "\n",
    "# 1st Convolutional Layer\n",
    "x = Conv2D(filters=32, kernel_size=(3,3), activation='relu', padding='same')(Inputlayer)\n",
    "x = Conv2D(filters=32, kernel_size=(3,3), activation='relu', padding='same')(x)\n",
    "x = MaxPool2D(pool_size=(2,2))(x)\n",
    "\n",
    "# 2nd Convolutional Layer\n",
    "x = Conv2D(filters=64, kernel_size=(3,3), activation='relu', padding='same')(x)\n",
    "x = Conv2D(filters=64, kernel_size=(3,3), activation='relu', padding='same')(x)\n",
    "x = MaxPool2D(pool_size=(2,2))(x)\n",
    "\n",
    "# 3rd Convolutional Layer\n",
    "x = Conv2D(filters=128, kernel_size=(3,3), activation='relu', padding='same')(x)\n",
    "x = Conv2D(filters=128, kernel_size=(3,3), activation='relu', padding='same')(x)\n",
    "x = MaxPool2D(pool_size=(2,2))(x)\n",
    "\n",
    "# Output Layer\n",
    "x = Flatten()(x)\n",
    "x = Dense(units=128, activation='relu')(x)\n",
    "x = Dropout(rate=0.2)(x)\n",
    "x = Dense(units=4, activation='softmax')(x)\n",
    "\n",
    "